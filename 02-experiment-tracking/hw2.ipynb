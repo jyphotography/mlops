{
 "cells": [
  {
   "cell_type": "markdown",
   "id": "73a74558",
   "metadata": {},
   "source": [
    "To get started with MLflow you'll need to install the MLflow Python package.\n",
    "\n",
    "For this we recommend creating a separate Python environment, for example, you can use [conda environments](https://docs.conda.io/projects/conda/en/latest/user-guide/getting-started.html#managing-envs), and then install the package there with `pip` or `conda`.\n",
    "\n",
    "Once you installed the package, run the command `mlflow --version` and check the output.\n",
    "\n",
    "What's the version that you have?"
   ]
  },
  {
   "cell_type": "code",
   "execution_count": 1,
   "id": "0e27f4a1",
   "metadata": {},
   "outputs": [
    {
     "name": "stdout",
     "output_type": "stream",
     "text": [
      "mlflow, version 1.30.0\n"
     ]
    }
   ],
   "source": [
    "!mlflow --version"
   ]
  },
  {
   "cell_type": "markdown",
   "id": "a84cff8f",
   "metadata": {},
   "source": [
    "We'll use the Green Taxi Trip Records dataset to predict the duration of each trip. \n",
    "\n",
    "Download the data for January, February and March 2023 in parquet format from [here](https://www1.nyc.gov/site/tlc/about/tlc-trip-record-data.page).\n",
    "\n",
    "Use the script `preprocess_data.py` located in the folder [`homework`](homework) to preprocess the data.\n",
    "\n",
    "The script will:\n",
    "\n",
    "* load the data from the folder `<TAXI_DATA_FOLDER>` (the folder where you have downloaded the data),\n",
    "* fit a `DictVectorizer` on the training set (January 2023 data),\n",
    "* save the preprocessed datasets and the `DictVectorizer` to disk.\n",
    "\n",
    "Your task is to download the datasets and then execute this command:\n",
    "\n",
    "```\n",
    "python preprocess_data.py --raw_data_path <TAXI_DATA_FOLDER> --dest_path ./output\n",
    "```\n",
    "\n",
    "Tip: go to `02-experiment-tracking/homework/` folder before executing the command and change the value of `<TAXI_DATA_FOLDER>` to the location where you saved the data.\n",
    "\n",
    "How many files were saved to `OUTPUT_FOLDER`?"
   ]
  },
  {
   "cell_type": "code",
   "execution_count": 2,
   "id": "dcd62c77",
   "metadata": {},
   "outputs": [
    {
     "name": "stdout",
     "output_type": "stream",
     "text": [
      "--2025-04-28 14:31:55--  https://d37ci6vzurychx.cloudfront.net/trip-data/green_tripdata_2023-01.parquet\n",
      "Resolving d37ci6vzurychx.cloudfront.net (d37ci6vzurychx.cloudfront.net)... 3.167.84.86, 3.167.84.228, 3.167.84.127, ...\n",
      "Connecting to d37ci6vzurychx.cloudfront.net (d37ci6vzurychx.cloudfront.net)|3.167.84.86|:443... connected.\n",
      "HTTP request sent, awaiting response... 200 OK\n",
      "Length: 1427002 (1.4M) [binary/octet-stream]\n",
      "Saving to: ‘data/green_tripdata_2023-01.parquet’\n",
      "\n",
      "data/green_tripdata 100%[===================>]   1.36M  --.-KB/s    in 0.02s   \n",
      "\n",
      "2025-04-28 14:31:56 (69.7 MB/s) - ‘data/green_tripdata_2023-01.parquet’ saved [1427002/1427002]\n",
      "\n",
      "--2025-04-28 14:31:56--  https://d37ci6vzurychx.cloudfront.net/trip-data/green_tripdata_2023-02.parquet\n",
      "Resolving d37ci6vzurychx.cloudfront.net (d37ci6vzurychx.cloudfront.net)... 3.167.84.228, 3.167.84.131, 3.167.84.127, ...\n",
      "Connecting to d37ci6vzurychx.cloudfront.net (d37ci6vzurychx.cloudfront.net)|3.167.84.228|:443... connected.\n",
      "HTTP request sent, awaiting response... 200 OK\n",
      "Length: 1533740 (1.5M) [binary/octet-stream]\n",
      "Saving to: ‘data/green_tripdata_2023-02.parquet’\n",
      "\n",
      "data/green_tripdata 100%[===================>]   1.46M  --.-KB/s    in 0.02s   \n",
      "\n",
      "2025-04-28 14:31:56 (78.7 MB/s) - ‘data/green_tripdata_2023-02.parquet’ saved [1533740/1533740]\n",
      "\n",
      "--2025-04-28 14:31:56--  https://d37ci6vzurychx.cloudfront.net/trip-data/green_tripdata_2023-03.parquet\n",
      "Resolving d37ci6vzurychx.cloudfront.net (d37ci6vzurychx.cloudfront.net)... 3.167.84.127, 3.167.84.86, 3.167.84.131, ...\n",
      "Connecting to d37ci6vzurychx.cloudfront.net (d37ci6vzurychx.cloudfront.net)|3.167.84.127|:443... connected.\n",
      "HTTP request sent, awaiting response... 200 OK\n",
      "Length: 1730999 (1.7M) [binary/octet-stream]\n",
      "Saving to: ‘data/green_tripdata_2023-03.parquet’\n",
      "\n",
      "data/green_tripdata 100%[===================>]   1.65M  --.-KB/s    in 0.02s   \n",
      "\n",
      "2025-04-28 14:31:56 (93.6 MB/s) - ‘data/green_tripdata_2023-03.parquet’ saved [1730999/1730999]\n",
      "\n"
     ]
    }
   ],
   "source": [
    "!mkdir -p data\n",
    "!wget https://d37ci6vzurychx.cloudfront.net/trip-data/green_tripdata_2023-01.parquet -O data/green_tripdata_2023-01.parquet\n",
    "!wget https://d37ci6vzurychx.cloudfront.net/trip-data/green_tripdata_2023-02.parquet -O data/green_tripdata_2023-02.parquet\n",
    "!wget https://d37ci6vzurychx.cloudfront.net/trip-data/green_tripdata_2023-03.parquet -O data/green_tripdata_2023-03.parquet"
   ]
  },
  {
   "cell_type": "code",
   "execution_count": 3,
   "id": "c65e3f7a",
   "metadata": {},
   "outputs": [],
   "source": [
    "!python preprocess_data.py --raw_data_path data --dest_path ./output"
   ]
  },
  {
   "cell_type": "code",
   "execution_count": 5,
   "id": "8ab3e51d",
   "metadata": {},
   "outputs": [
    {
     "name": "stdout",
     "output_type": "stream",
     "text": [
      "dv.pkl\ttest.pkl  train.pkl  val.pkl\n"
     ]
    }
   ],
   "source": [
    "!ls output"
   ]
  },
  {
   "cell_type": "markdown",
   "id": "5e26967a",
   "metadata": {},
   "source": [
    "We will train a `RandomForestRegressor` (from Scikit-Learn) on the taxi dataset.\n",
    "\n",
    "We have prepared the training script `train.py` for this exercise, which can be also found in the folder [`homework`](homework). \n",
    "\n",
    "The script will:\n",
    "\n",
    "* load the datasets produced by the previous step,\n",
    "* train the model on the training set,\n",
    "* calculate the RMSE score on the validation set.\n",
    "\n",
    "Your task is to modify the script to enable **autologging** with MLflow, execute the script and then launch the MLflow UI to check that the experiment run was properly tracked. \n",
    "\n",
    "Tip 1: don't forget to wrap the training code with a `with mlflow.start_run():` statement as we showed in the videos.\n",
    "\n",
    "Tip 2: don't modify the hyperparameters of the model to make sure that the training will finish quickly.\n",
    "\n",
    "What is the value of the `min_samples_split` parameter:"
   ]
  },
  {
   "cell_type": "code",
   "execution_count": 1,
   "id": "c5a751cf",
   "metadata": {},
   "outputs": [
    {
     "name": "stdout",
     "output_type": "stream",
     "text": [
      "[2025-04-28 17:35:45 +0000] [4642] [INFO] Starting gunicorn 20.1.0\n",
      "[2025-04-28 17:35:45 +0000] [4642] [INFO] Listening at: http://127.0.0.1:5000 (4642)\n",
      "[2025-04-28 17:35:45 +0000] [4642] [INFO] Using worker: sync\n",
      "[2025-04-28 17:35:45 +0000] [4643] [INFO] Booting worker with pid: 4643\n",
      "[2025-04-28 17:36:12 +0000] [4642] [INFO] Handling signal: int\n",
      "^C\n",
      "\n",
      "Aborted!\n",
      "[2025-04-28 17:36:12 +0000] [4643] [INFO] Worker exiting (pid: 4643)\n"
     ]
    }
   ],
   "source": [
    "!mlflow ui"
   ]
  },
  {
   "cell_type": "code",
   "execution_count": 4,
   "id": "c13df0b7",
   "metadata": {},
   "outputs": [
    {
     "name": "stdout",
     "output_type": "stream",
     "text": [
      "2025/04/28 17:43:47 WARNING mlflow.utils.autologging_utils: MLflow autologging encountered a warning: \"/home/codespace/anaconda3/lib/python3.9/site-packages/_distutils_hack/__init__.py:30: UserWarning: Setuptools is replacing distutils.\"\n"
     ]
    }
   ],
   "source": [
    "!python train.py"
   ]
  },
  {
   "cell_type": "markdown",
   "id": "b2f25350",
   "metadata": {},
   "source": [
    "Name\tValue\n",
    "bootstrap\tTrue\n",
    "ccp_alpha\t0.0\n",
    "criterion\tsquared_error\n",
    "max_depth\t10\n",
    "max_features\tauto\n",
    "max_leaf_nodes\tNone\n",
    "max_samples\tNone\n",
    "min_impurity_decrease\t0.0\n",
    "min_samples_leaf\t1\n",
    "min_samples_split\t2"
   ]
  },
  {
   "cell_type": "markdown",
   "id": "16c8731b",
   "metadata": {},
   "source": [
    "Now we want to manage the entire lifecycle of our ML model. In this step, you'll need to launch a tracking server. This way we will also have access to the model registry. \n",
    "\n",
    "Your task is to:\n",
    "\n",
    "* launch the tracking server on your local machine,\n",
    "* select a SQLite db for the backend store and a folder called `artifacts` for the artifacts store.\n",
    "\n",
    "You should keep the tracking server running to work on the next two exercises that use the server.\n",
    "\n",
    "In addition to `backend-store-uri`, what else do you need to pass to properly configure the server?"
   ]
  },
  {
   "cell_type": "code",
   "execution_count": null,
   "id": "2e3f3362",
   "metadata": {},
   "outputs": [],
   "source": [
    "!mlflow server --backend-store-uri sqlite:///mlflow.db --default-artifact-root ./artifacts"
   ]
  },
  {
   "cell_type": "markdown",
   "id": "2f204ba3",
   "metadata": {},
   "source": [
    "Now let's try to reduce the validation error by tuning the hyperparameters of the `RandomForestRegressor` using `hyperopt`. \n",
    "We have prepared the script `hpo.py` for this exercise. \n",
    "\n",
    "Your task is to modify the script `hpo.py` and make sure that the validation RMSE is logged to the tracking server for each run of the hyperparameter optimization (you will need to add a few lines of code to the `objective` function) and run the script without passing any parameters.\n",
    "\n",
    "After that, open UI and explore the runs from the experiment called `random-forest-hyperopt` to answer the question below.\n",
    "\n",
    "Note: Don't use autologging for this exercise.\n",
    "\n",
    "The idea is to just log the information that you need to answer the question below, including:\n",
    "\n",
    "* the list of hyperparameters that are passed to the `objective` function during the optimization,\n",
    "* the RMSE obtained on the validation set (February 2023 data).\n",
    "\n",
    "What's the best validation RMSE that you got?"
   ]
  },
  {
   "cell_type": "code",
   "execution_count": 7,
   "id": "eba5012a",
   "metadata": {},
   "outputs": [
    {
     "name": "stdout",
     "output_type": "stream",
     "text": [
      "2025/04/28 17:54:56 INFO mlflow.tracking.fluent: Experiment with name 'random-forest-hyperopt' does not exist. Creating a new experiment.\n",
      "100%|██████████| 15/15 [01:05<00:00,  4.36s/trial, best loss: 5.335419588556921]\n"
     ]
    }
   ],
   "source": [
    "!python hpo.py"
   ]
  },
  {
   "cell_type": "markdown",
   "id": "b767a2cc",
   "metadata": {},
   "source": [
    "The results from the hyperparameter optimization are quite good. So, we can assume that we are ready to test some of these models in production. \n",
    "In this exercise, you'll promote the best model to the model registry. We have prepared a script called `register_model.py`, which will check the results from the previous step and select the top 5 runs. \n",
    "After that, it will calculate the RMSE of those models on the test set (March 2023 data) and save the results to a new experiment called `random-forest-best-models`.\n",
    "\n",
    "Your task is to update the script `register_model.py` so that it selects the model with the lowest RMSE on the test set and registers it to the model registry.\n",
    "\n",
    "Tip 1: you can use the method `search_runs` from the `MlflowClient` to get the model with the lowest RMSE,\n",
    "\n",
    "Tip 2: to register the model you can use the method `mlflow.register_model` and you will need to pass the right `model_uri` in the form of a string that looks like this: `\"runs:/<RUN_ID>/model\"`, and the name of the model (make sure to choose a good one!).\n",
    "\n",
    "What is the test RMSE of the best model?\n"
   ]
  },
  {
   "cell_type": "code",
   "execution_count": 10,
   "id": "69d931fd",
   "metadata": {},
   "outputs": [
    {
     "name": "stdout",
     "output_type": "stream",
     "text": [
      "2025/04/28 18:15:03 WARNING mlflow.utils.autologging_utils: MLflow autologging encountered a warning: \"/home/codespace/anaconda3/lib/python3.9/site-packages/_distutils_hack/__init__.py:30: UserWarning: Setuptools is replacing distutils.\"\n",
      "<Run: data=<RunData: metrics={'test_rmse': 5.567408012462019,\n",
      " 'training_mae': 3.23365652419934,\n",
      " 'training_mse': 24.785660360279664,\n",
      " 'training_r2_score': 0.6956122194293166,\n",
      " 'training_rmse': 4.978519896543516,\n",
      " 'training_score': 0.6956122194293166,\n",
      " 'val_rmse': 5.335419588556921}, params={'bootstrap': 'True',\n",
      " 'ccp_alpha': '0.0',\n",
      " 'criterion': 'squared_error',\n",
      " 'max_depth': '19',\n",
      " 'max_features': 'auto',\n",
      " 'max_leaf_nodes': 'None',\n",
      " 'max_samples': 'None',\n",
      " 'min_impurity_decrease': '0.0',\n",
      " 'min_samples_leaf': '2',\n",
      " 'min_samples_split': '2',\n",
      " 'min_weight_fraction_leaf': '0.0',\n",
      " 'n_estimators': '11',\n",
      " 'n_jobs': 'None',\n",
      " 'oob_score': 'False',\n",
      " 'random_state': '42',\n",
      " 'verbose': '0',\n",
      " 'warm_start': 'False'}, tags={'estimator_class': 'sklearn.ensemble._forest.RandomForestRegressor',\n",
      " 'estimator_name': 'RandomForestRegressor',\n",
      " 'mlflow.log-model.history': '[{\"run_id\": \"84414be4bfed4500a7c76e5bfac29f7e\", '\n",
      "                             '\"artifact_path\": \"model\", \"utc_time_created\": '\n",
      "                             '\"2025-04-28 18:15:20.545778\", \"flavors\": '\n",
      "                             '{\"python_function\": {\"model_path\": \"model.pkl\", '\n",
      "                             '\"predict_fn\": \"predict\", \"loader_module\": '\n",
      "                             '\"mlflow.sklearn\", \"python_version\": \"3.9.12\", '\n",
      "                             '\"env\": \"conda.yaml\"}, \"sklearn\": '\n",
      "                             '{\"pickled_model\": \"model.pkl\", '\n",
      "                             '\"sklearn_version\": \"1.0.2\", '\n",
      "                             '\"serialization_format\": \"cloudpickle\", \"code\": '\n",
      "                             'null}}, \"model_uuid\": '\n",
      "                             '\"da31b3d0382f43a2a7dbbbd6590a5e16\", '\n",
      "                             '\"mlflow_version\": \"1.30.0\", \"signature\": '\n",
      "                             '{\"inputs\": \"[{\\\\\"type\\\\\": \\\\\"tensor\\\\\", '\n",
      "                             '\\\\\"tensor-spec\\\\\": {\\\\\"dtype\\\\\": \\\\\"float64\\\\\", '\n",
      "                             '\\\\\"shape\\\\\": [-1, 5702]}}]\", \"outputs\": '\n",
      "                             '\"[{\\\\\"type\\\\\": \\\\\"tensor\\\\\", \\\\\"tensor-spec\\\\\": '\n",
      "                             '{\\\\\"dtype\\\\\": \\\\\"float64\\\\\", \\\\\"shape\\\\\": '\n",
      "                             '[-1]}}]\"}}]',\n",
      " 'mlflow.runName': 'learned-fowl-983',\n",
      " 'mlflow.source.git.commit': '3f664d2c18ec23425d21e56c8d761022a868ea36',\n",
      " 'mlflow.source.name': 'register_model.py',\n",
      " 'mlflow.source.type': 'LOCAL',\n",
      " 'mlflow.user': 'codespace'}>, info=<RunInfo: artifact_uri='./artifacts/2/84414be4bfed4500a7c76e5bfac29f7e/artifacts', end_time=1745864122368, experiment_id='2', lifecycle_stage='active', run_id='84414be4bfed4500a7c76e5bfac29f7e', run_name='learned-fowl-983', run_uuid='84414be4bfed4500a7c76e5bfac29f7e', start_time=1745864117094, status='FINISHED', user_id='codespace'>>\n",
      "Registered model 'rf-best-model' already exists. Creating a new version of this model...\n",
      "2025/04/28 18:15:22 INFO mlflow.tracking._model_registry.client: Waiting up to 300 seconds for model version to finish creation.                     Model name: rf-best-model, version 3\n",
      "Created version '3' of model 'rf-best-model'.\n"
     ]
    }
   ],
   "source": [
    "!python register_model.py"
   ]
  }
 ],
 "metadata": {
  "kernelspec": {
   "display_name": "base",
   "language": "python",
   "name": "python3"
  },
  "language_info": {
   "codemirror_mode": {
    "name": "ipython",
    "version": 3
   },
   "file_extension": ".py",
   "mimetype": "text/x-python",
   "name": "python",
   "nbconvert_exporter": "python",
   "pygments_lexer": "ipython3",
   "version": "3.9.12"
  }
 },
 "nbformat": 4,
 "nbformat_minor": 5
}
