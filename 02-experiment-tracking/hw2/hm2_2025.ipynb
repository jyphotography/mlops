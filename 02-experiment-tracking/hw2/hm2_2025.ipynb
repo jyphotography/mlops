{
 "cells": [
  {
   "cell_type": "markdown",
   "id": "9946b984",
   "metadata": {},
   "source": [
    "## Q1. Install MLflow\n",
    "\n",
    "To get started with MLflow you'll need to install the MLflow Python package.\n",
    "\n",
    "For this we recommend creating a separate Python environment, for example, you can use [conda environments](https://docs.conda.io/projects/conda/en/latest/user-guide/getting-started.html#managing-envs), and then install the package there with `pip` or `conda`.\n",
    "\n",
    "Once you installed the package, run the command `mlflow --version` and check the output.\n",
    "\n",
    "What's the version that you have?"
   ]
  },
  {
   "cell_type": "code",
   "execution_count": 1,
   "id": "b194a654",
   "metadata": {},
   "outputs": [
    {
     "name": "stdout",
     "output_type": "stream",
     "text": [
      "mlflow, version 1.30.0\n"
     ]
    }
   ],
   "source": [
    "!mlflow --version"
   ]
  },
  {
   "cell_type": "markdown",
   "id": "0c6b18c3",
   "metadata": {},
   "source": [
    "## Q2. Download and preprocess the data\n",
    "\n",
    "We'll use the Green Taxi Trip Records dataset to predict the duration of each trip. \n",
    "\n",
    "Download the data for January, February and March 2023 in parquet format from [here](https://www1.nyc.gov/site/tlc/about/tlc-trip-record-data.page).\n",
    "\n",
    "Use the script `preprocess_data.py` located in the folder [`homework`](homework) to preprocess the data.\n",
    "\n",
    "The script will:\n",
    "\n",
    "* load the data from the folder `<TAXI_DATA_FOLDER>` (the folder where you have downloaded the data),\n",
    "* fit a `DictVectorizer` on the training set (January 2023 data),\n",
    "* save the preprocessed datasets and the `DictVectorizer` to disk.\n",
    "\n",
    "Your task is to download the datasets and then execute this command:\n",
    "\n",
    "```\n",
    "python preprocess_data.py --raw_data_path <TAXI_DATA_FOLDER> --dest_path ./output\n",
    "```\n",
    "\n",
    "Tip: go to `02-experiment-tracking/homework/` folder before executing the command and change the value of `<TAXI_DATA_FOLDER>` to the location where you saved the data.\n",
    "\n",
    "How many files were saved to `OUTPUT_FOLDER`?\n",
    "\n",
    "* 1\n",
    "* 3\n",
    "* 4\n",
    "* 7"
   ]
  },
  {
   "cell_type": "code",
   "execution_count": 1,
   "id": "7461cc81",
   "metadata": {},
   "outputs": [
    {
     "name": "stdout",
     "output_type": "stream",
     "text": [
      "--2025-05-19 14:54:23--  https://d37ci6vzurychx.cloudfront.net/trip-data/green_tripdata_2023-01.parquet\n",
      "Resolving d37ci6vzurychx.cloudfront.net (d37ci6vzurychx.cloudfront.net)... 3.167.84.86, 3.167.84.131, 3.167.84.127, ...\n",
      "Connecting to d37ci6vzurychx.cloudfront.net (d37ci6vzurychx.cloudfront.net)|3.167.84.86|:443... connected.\n",
      "HTTP request sent, awaiting response... 200 OK\n",
      "Length: 1427002 (1.4M) [binary/octet-stream]\n",
      "Saving to: ‘data/green_tripdata_2023-01.parquet’\n",
      "\n",
      "data/green_tripdata 100%[===================>]   1.36M  --.-KB/s    in 0.02s   \n",
      "\n",
      "2025-05-19 14:54:24 (86.6 MB/s) - ‘data/green_tripdata_2023-01.parquet’ saved [1427002/1427002]\n",
      "\n",
      "--2025-05-19 14:54:24--  https://d37ci6vzurychx.cloudfront.net/trip-data/green_tripdata_2023-02.parquet\n",
      "Resolving d37ci6vzurychx.cloudfront.net (d37ci6vzurychx.cloudfront.net)... 3.167.84.127, 3.167.84.228, 3.167.84.131, ...\n",
      "Connecting to d37ci6vzurychx.cloudfront.net (d37ci6vzurychx.cloudfront.net)|3.167.84.127|:443... connected.\n",
      "HTTP request sent, awaiting response... 200 OK\n",
      "Length: 1533740 (1.5M) [binary/octet-stream]\n",
      "Saving to: ‘data/green_tripdata_2023-02.parquet’\n",
      "\n",
      "data/green_tripdata 100%[===================>]   1.46M  --.-KB/s    in 0.02s   \n",
      "\n",
      "2025-05-19 14:54:24 (90.7 MB/s) - ‘data/green_tripdata_2023-02.parquet’ saved [1533740/1533740]\n",
      "\n",
      "--2025-05-19 14:54:24--  https://d37ci6vzurychx.cloudfront.net/trip-data/green_tripdata_2023-03.parquet\n",
      "Resolving d37ci6vzurychx.cloudfront.net (d37ci6vzurychx.cloudfront.net)... 3.167.84.127, 3.167.84.86, 3.167.84.228, ...\n",
      "Connecting to d37ci6vzurychx.cloudfront.net (d37ci6vzurychx.cloudfront.net)|3.167.84.127|:443... connected.\n",
      "HTTP request sent, awaiting response... 200 OK\n",
      "Length: 1730999 (1.7M) [binary/octet-stream]\n",
      "Saving to: ‘data/green_tripdata_2023-03.parquet’\n",
      "\n",
      "data/green_tripdata 100%[===================>]   1.65M  --.-KB/s    in 0.02s   \n",
      "\n",
      "2025-05-19 14:54:24 (79.7 MB/s) - ‘data/green_tripdata_2023-03.parquet’ saved [1730999/1730999]\n",
      "\n"
     ]
    }
   ],
   "source": [
    "!mkdir -p data\n",
    "!wget https://d37ci6vzurychx.cloudfront.net/trip-data/green_tripdata_2023-01.parquet -O data/green_tripdata_2023-01.parquet\n",
    "!wget https://d37ci6vzurychx.cloudfront.net/trip-data/green_tripdata_2023-02.parquet -O data/green_tripdata_2023-02.parquet\n",
    "!wget https://d37ci6vzurychx.cloudfront.net/trip-data/green_tripdata_2023-03.parquet -O data/green_tripdata_2023-03.parquet"
   ]
  },
  {
   "cell_type": "code",
   "execution_count": 2,
   "id": "0c135e9b",
   "metadata": {},
   "outputs": [],
   "source": [
    "!python preprocess_data.py --raw_data_path data --dest_path ./output"
   ]
  },
  {
   "cell_type": "code",
   "execution_count": 3,
   "id": "1445ee81",
   "metadata": {},
   "outputs": [
    {
     "name": "stdout",
     "output_type": "stream",
     "text": [
      "dv.pkl\ttest.pkl  train.pkl  val.pkl\n"
     ]
    }
   ],
   "source": [
    "!ls output"
   ]
  },
  {
   "cell_type": "markdown",
   "id": "988a7c88",
   "metadata": {},
   "source": [
    "## Q3. Train a model with autolog\n",
    "\n",
    "We will train a `RandomForestRegressor` (from Scikit-Learn) on the taxi dataset.\n",
    "\n",
    "We have prepared the training script `train.py` for this exercise, which can be also found in the folder [`homework`](homework). \n",
    "\n",
    "The script will:\n",
    "\n",
    "* load the datasets produced by the previous step,\n",
    "* train the model on the training set,\n",
    "* calculate the RMSE score on the validation set.\n",
    "\n",
    "Your task is to modify the script to enable **autologging** with MLflow, execute the script and then launch the MLflow UI to check that the experiment run was properly tracked. \n",
    "\n",
    "Tip 1: don't forget to wrap the training code with a `with mlflow.start_run():` statement as we showed in the videos.\n",
    "\n",
    "Tip 2: don't modify the hyperparameters of the model to make sure that the training will finish quickly.\n",
    "\n",
    "What is the value of the `min_samples_split` parameter:\n",
    "\n",
    "* 2\n",
    "* 4\n",
    "* 8\n",
    "* 10"
   ]
  },
  {
   "cell_type": "code",
   "execution_count": 4,
   "id": "e51c22d6",
   "metadata": {},
   "outputs": [
    {
     "name": "stdout",
     "output_type": "stream",
     "text": [
      "[2025-05-19 15:09:08 +0000] [22845] [INFO] Starting gunicorn 20.1.0\n",
      "[2025-05-19 15:09:08 +0000] [22845] [INFO] Listening at: http://127.0.0.1:5000 (22845)\n",
      "[2025-05-19 15:09:08 +0000] [22845] [INFO] Using worker: sync\n",
      "[2025-05-19 15:09:08 +0000] [22852] [INFO] Booting worker with pid: 22852\n",
      "[2025-05-19 15:09:47 +0000] [22845] [INFO] Handling signal: int\n",
      "^C\n",
      "\n",
      "Aborted!\n",
      "[2025-05-19 15:09:47 +0000] [22852] [INFO] Worker exiting (pid: 22852)\n"
     ]
    }
   ],
   "source": [
    "!mlflow ui"
   ]
  },
  {
   "cell_type": "code",
   "execution_count": 3,
   "id": "fec208c6",
   "metadata": {},
   "outputs": [
    {
     "name": "stdout",
     "output_type": "stream",
     "text": [
      "2025/05/19 17:31:07 INFO mlflow.tracking.fluent: Autologging successfully enabled for sklearn.\n",
      "2025/05/19 17:31:21 WARNING mlflow.utils.autologging_utils: MLflow autologging encountered a warning: \"/home/codespace/anaconda3/lib/python3.9/site-packages/_distutils_hack/__init__.py:30: UserWarning: Setuptools is replacing distutils.\"\n"
     ]
    }
   ],
   "source": [
    "!python train.py"
   ]
  },
  {
   "cell_type": "code",
   "execution_count": 5,
   "id": "42f9d62c",
   "metadata": {},
   "outputs": [
    {
     "name": "stdout",
     "output_type": "stream",
     "text": [
      "min_samples_split: 2\n"
     ]
    }
   ],
   "source": [
    "import mlflow\n",
    "from mlflow.tracking import MlflowClient\n",
    "\n",
    "# Connect to your tracking server\n",
    "mlflow.set_tracking_uri(\"http://127.0.0.1:5000\")\n",
    "\n",
    "# Create client\n",
    "client = MlflowClient()\n",
    "\n",
    "# Get experiment by name\n",
    "experiment = client.get_experiment_by_name(\"random-forest-training-2025\")\n",
    "experiment_id = experiment.experiment_id\n",
    "\n",
    "# List runs in experiment\n",
    "runs = client.search_runs(\n",
    "    experiment_ids=[experiment_id],\n",
    "    order_by=[\"metrics.rmse ASC\"]  # Optional: sort by a metric\n",
    ")\n",
    "\n",
    "# Access run data\n",
    "for run in runs:\n",
    "    run_id = run.info.run_id\n",
    "    metrics = run.data.metrics\n",
    "    params = run.data.params\n",
    "    \n",
    "    print(f\"min_samples_split: {params['min_samples_split']}\")"
   ]
  },
  {
   "cell_type": "markdown",
   "id": "a31ee7d8",
   "metadata": {},
   "source": []
  }
 ],
 "metadata": {
  "kernelspec": {
   "display_name": "base",
   "language": "python",
   "name": "python3"
  },
  "language_info": {
   "codemirror_mode": {
    "name": "ipython",
    "version": 3
   },
   "file_extension": ".py",
   "mimetype": "text/x-python",
   "name": "python",
   "nbconvert_exporter": "python",
   "pygments_lexer": "ipython3",
   "version": "3.9.12"
  }
 },
 "nbformat": 4,
 "nbformat_minor": 5
}
