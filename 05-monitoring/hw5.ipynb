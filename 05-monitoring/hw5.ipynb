{
 "cells": [
  {
   "cell_type": "markdown",
   "id": "06471701",
   "metadata": {},
   "source": [
    "## Homework\n",
    "\n",
    "The goal of this homework is to familiarize users with monitoring for ML batch services, using PostgreSQL database to store metrics and Grafana to visualize them."
   ]
  },
  {
   "cell_type": "markdown",
   "id": "e0c1813c",
   "metadata": {},
   "source": [
    "## Q1. Prepare the dataset\n",
    "\n",
    "Start with `baseline_model_nyc_taxi_data.ipynb`. Download the March 2024 Green Taxi data. We will use this data to simulate a production usage of a taxi trip duration prediction service.\n",
    "\n",
    "What is the shape of the downloaded data? How many rows are there?\n",
    "\n",
    "* 72044\n",
    "* 78537 \n",
    "* 57457\n",
    "* 54396\n"
   ]
  },
  {
   "cell_type": "code",
   "execution_count": 1,
   "id": "0cec2df1",
   "metadata": {},
   "outputs": [],
   "source": [
    "\n",
    "import requests\n",
    "import datetime\n",
    "import pandas as pd\n",
    "from tqdm import tqdm"
   ]
  },
  {
   "cell_type": "code",
   "execution_count": 7,
   "id": "12347fac",
   "metadata": {},
   "outputs": [
    {
     "name": "stdout",
     "output_type": "stream",
     "text": [
      "Download files:\n"
     ]
    },
    {
     "name": "stderr",
     "output_type": "stream",
     "text": [
      "green_tripdata_2024-03.parquet:   0%|          | 0/1372372 [00:00<?, ?it/s, save to ./data/green_tripdata_2024-03.parquet]"
     ]
    },
    {
     "name": "stderr",
     "output_type": "stream",
     "text": [
      "green_tripdata_2024-03.parquet: 100%|██████████| 1372372/1372372 [00:08<00:00, 162297.33it/s, save to ./data/green_tripdata_2024-03.parquet]\n"
     ]
    }
   ],
   "source": [
    "files = [('green_tripdata_2024-03.parquet', './data')]\n",
    "\n",
    "print(\"Download files:\")\n",
    "for file, path in files:\n",
    "    url=f\"https://d37ci6vzurychx.cloudfront.net/trip-data/{file}\"\n",
    "    resp=requests.get(url, stream=True)\n",
    "    save_path=f\"{path}/{file}\"\n",
    "    with open(save_path, \"wb\") as handle:\n",
    "        for data in tqdm(resp.iter_content(),\n",
    "                        desc=f\"{file}\",\n",
    "                        postfix=f\"save to {save_path}\",\n",
    "                        total=int(resp.headers[\"Content-Length\"])):\n",
    "            handle.write(data)"
   ]
  },
  {
   "cell_type": "code",
   "execution_count": null,
   "id": "374ff969",
   "metadata": {},
   "outputs": [
    {
     "data": {
      "text/plain": [
       "(57457, 20)"
      ]
     },
     "execution_count": 2,
     "metadata": {},
     "output_type": "execute_result"
    }
   ],
   "source": [
    "mar_data = pd.read_parquet('data/green_tripdata_2024-03.parquet')\n",
    "mar_data.shape"
   ]
  },
  {
   "cell_type": "markdown",
   "id": "e242f8cc",
   "metadata": {},
   "source": [
    "## Q2. Metric\n",
    "\n",
    "Let's expand the number of data quality metrics we’d like to monitor! Please add one metric of your choice and a quantile value for the `\"fare_amount\"` column (`quantile=0.5`).\n",
    "\n",
    "Hint: explore evidently metric `ColumnQuantileMetric` (from `evidently.metrics import ColumnQuantileMetric`) \n",
    "\n",
    "What metric did you choose?"
   ]
  },
  {
   "cell_type": "markdown",
   "id": "f00637ca",
   "metadata": {},
   "source": [
    "the mean of fare_amount"
   ]
  },
  {
   "cell_type": "markdown",
   "id": "90476d54",
   "metadata": {},
   "source": [
    "## Q3. Monitoring\n",
    "\n",
    "Let’s start monitoring. Run expanded monitoring for a new batch of data (March 2024). \n",
    "\n",
    "What is the maximum value of metric `quantile = 0.5` on the `\"fare_amount\"` column during March 2024 (calculated daily)?\n",
    "\n",
    "* 10\n",
    "* 12.5\n",
    "* 14.2\n",
    "* 14.8"
   ]
  },
  {
   "cell_type": "code",
   "execution_count": 9,
   "id": "e124a611",
   "metadata": {},
   "outputs": [],
   "source": [
    "from evidently.metrics import ColumnQuantileMetric"
   ]
  },
  {
   "cell_type": "code",
   "execution_count": 3,
   "id": "cb1227aa",
   "metadata": {},
   "outputs": [],
   "source": [
    "from evidently import ColumnMapping\n",
    "from evidently.report import Report\n",
    "from evidently.metrics import ColumnDriftMetric, DatasetDriftMetric, DatasetMissingValuesMetric\n",
    "\n",
    "from joblib import load, dump\n",
    "from tqdm import tqdm\n",
    "\n",
    "from sklearn.linear_model import LinearRegression\n",
    "from sklearn.metrics import mean_absolute_error, mean_absolute_percentage_error"
   ]
  },
  {
   "cell_type": "code",
   "execution_count": 6,
   "id": "dd3f6505",
   "metadata": {},
   "outputs": [],
   "source": [
    "mar_data['date'] = mar_data['lpep_pickup_datetime'].dt.date"
   ]
  },
  {
   "cell_type": "code",
   "execution_count": 24,
   "id": "a171235f",
   "metadata": {},
   "outputs": [],
   "source": [
    "mar_data = mar_data[(mar_data['lpep_pickup_datetime'] >= '2024-03-01') & (mar_data['lpep_pickup_datetime'] < '2024-04-01')]\n"
   ]
  },
  {
   "cell_type": "code",
   "execution_count": 25,
   "id": "481108ce",
   "metadata": {},
   "outputs": [],
   "source": [
    "medians = []\n",
    "for day, group in mar_data.groupby('date'):\n",
    "    report = Report(metrics=[ColumnQuantileMetric(column_name='fare_amount', quantile=0.5)])\n",
    "    report.run(reference_data=None, current_data=group)\n",
    "    result = report.as_dict()\n",
    "    median = result['metrics'][0]['result']['current']['value']\n",
    "    medians.append((day, median))"
   ]
  },
  {
   "cell_type": "code",
   "execution_count": 26,
   "id": "4e4b6386",
   "metadata": {},
   "outputs": [
    {
     "data": {
      "text/plain": [
       "[(datetime.date(2024, 3, 1), np.float64(13.5)),\n",
       " (datetime.date(2024, 3, 2), np.float64(13.5)),\n",
       " (datetime.date(2024, 3, 3), np.float64(14.2)),\n",
       " (datetime.date(2024, 3, 4), np.float64(12.8)),\n",
       " (datetime.date(2024, 3, 5), np.float64(13.5)),\n",
       " (datetime.date(2024, 3, 6), np.float64(12.8)),\n",
       " (datetime.date(2024, 3, 7), np.float64(13.5)),\n",
       " (datetime.date(2024, 3, 8), np.float64(13.5)),\n",
       " (datetime.date(2024, 3, 9), np.float64(13.5)),\n",
       " (datetime.date(2024, 3, 10), np.float64(14.2)),\n",
       " (datetime.date(2024, 3, 11), np.float64(12.8)),\n",
       " (datetime.date(2024, 3, 12), np.float64(13.5)),\n",
       " (datetime.date(2024, 3, 13), np.float64(13.5)),\n",
       " (datetime.date(2024, 3, 14), np.float64(14.2)),\n",
       " (datetime.date(2024, 3, 15), np.float64(13.5)),\n",
       " (datetime.date(2024, 3, 16), np.float64(14.2)),\n",
       " (datetime.date(2024, 3, 17), np.float64(13.5)),\n",
       " (datetime.date(2024, 3, 18), np.float64(13.5)),\n",
       " (datetime.date(2024, 3, 19), np.float64(13.5)),\n",
       " (datetime.date(2024, 3, 20), np.float64(12.8)),\n",
       " (datetime.date(2024, 3, 21), np.float64(13.5)),\n",
       " (datetime.date(2024, 3, 22), np.float64(13.5)),\n",
       " (datetime.date(2024, 3, 23), np.float64(12.8)),\n",
       " (datetime.date(2024, 3, 24), np.float64(14.2)),\n",
       " (datetime.date(2024, 3, 25), np.float64(13.5)),\n",
       " (datetime.date(2024, 3, 26), np.float64(13.5)),\n",
       " (datetime.date(2024, 3, 27), np.float64(13.5)),\n",
       " (datetime.date(2024, 3, 28), np.float64(13.5)),\n",
       " (datetime.date(2024, 3, 29), np.float64(13.5)),\n",
       " (datetime.date(2024, 3, 30), np.float64(14.2)),\n",
       " (datetime.date(2024, 3, 31), np.float64(13.5))]"
      ]
     },
     "execution_count": 26,
     "metadata": {},
     "output_type": "execute_result"
    }
   ],
   "source": [
    "medians"
   ]
  },
  {
   "cell_type": "code",
   "execution_count": 27,
   "id": "15b9e418",
   "metadata": {},
   "outputs": [
    {
     "name": "stdout",
     "output_type": "stream",
     "text": [
      "Maximum daily median fare_amount in March 2024: 14.2 on 2024-03-03\n"
     ]
    }
   ],
   "source": [
    "\n",
    "# Now max will work, since median is a float\n",
    "max_day, max_median = max(medians, key=lambda x: x[1])\n",
    "print(f\"Maximum daily median fare_amount in March 2024: {max_median} on {max_day}\")"
   ]
  }
 ],
 "metadata": {
  "kernelspec": {
   "display_name": "Python 3",
   "language": "python",
   "name": "python3"
  },
  "language_info": {
   "codemirror_mode": {
    "name": "ipython",
    "version": 3
   },
   "file_extension": ".py",
   "mimetype": "text/x-python",
   "name": "python",
   "nbconvert_exporter": "python",
   "pygments_lexer": "ipython3",
   "version": "3.12.1"
  }
 },
 "nbformat": 4,
 "nbformat_minor": 5
}
