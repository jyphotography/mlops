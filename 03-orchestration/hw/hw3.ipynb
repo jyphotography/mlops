{
 "cells": [
  {
   "cell_type": "markdown",
   "id": "30d1f8e6",
   "metadata": {},
   "source": [
    "First, let's run Mage with Docker Compose. Follow the quick start guideline.\n",
    "\n",
    "What's the version of Mage we run?\n",
    "\n",
    "(You can see it in the UI)"
   ]
  },
  {
   "cell_type": "code",
   "execution_count": null,
   "id": "8723f6d1",
   "metadata": {},
   "outputs": [],
   "source": [
    "!./scripts/start.sh"
   ]
  },
  {
   "cell_type": "code",
   "execution_count": null,
   "id": "a1d2133c",
   "metadata": {},
   "outputs": [],
   "source": [
    "v0.9.73"
   ]
  },
  {
   "cell_type": "markdown",
   "id": "19627323",
   "metadata": {},
   "source": [
    "Now let's create a new project. We can call it \"homework_03\", for example.\n",
    "\n",
    "How many lines are in the created metadata.yaml file?"
   ]
  },
  {
   "cell_type": "markdown",
   "id": "22764bd9",
   "metadata": {},
   "source": [
    "1. text editor\n",
    "2. new Mage Project"
   ]
  },
  {
   "cell_type": "markdown",
   "id": "19fe5064",
   "metadata": {},
   "source": [
    "55"
   ]
  },
  {
   "cell_type": "markdown",
   "id": "a6c5b6a5",
   "metadata": {},
   "source": [
    "Let's create an ingestion code block.\n",
    "\n",
    "In this block, we will read the March 2023 Yellow taxi trips data.\n",
    "\n",
    "How many records did we load?"
   ]
  },
  {
   "cell_type": "code",
   "execution_count": null,
   "id": "5b8f5d29",
   "metadata": {},
   "outputs": [],
   "source": [
    "def ingest_files(**kwargs) -> pd.DataFrame:\n",
    "\n",
    "    response = requests.get(\n",
    "        'https://d37ci6vzurychx.cloudfront.net/trip-data/yellow_tripdata_2023-03.parquet'\n",
    "    )\n",
    "\n",
    "    if response.status_code != 200:\n",
    "        raise Exception(response.text)\n",
    "\n",
    "    df = pd.read_parquet(BytesIO(response.content))\n",
    "\n",
    "\n",
    "    return df"
   ]
  },
  {
   "cell_type": "markdown",
   "id": "08fa3910",
   "metadata": {},
   "source": [
    "3403766 rows x 19 columns"
   ]
  },
  {
   "cell_type": "markdown",
   "id": "357a05c1",
   "metadata": {},
   "source": [
    "Let's use the same logic for preparing the data we used previously. We will need to create a transformer code block and put this code there.\n",
    "\n",
    "This is what we used (adjusted for yellow dataset):"
   ]
  },
  {
   "cell_type": "code",
   "execution_count": null,
   "id": "bd5aecf1",
   "metadata": {},
   "outputs": [],
   "source": []
  }
 ],
 "metadata": {
  "kernelspec": {
   "display_name": "base",
   "language": "python",
   "name": "python3"
  },
  "language_info": {
   "name": "python",
   "version": "3.9.12"
  }
 },
 "nbformat": 4,
 "nbformat_minor": 5
}
